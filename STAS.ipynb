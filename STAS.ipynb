{
 "cells": [
  {
   "cell_type": "markdown",
   "id": "a35a804a",
   "metadata": {},
   "source": [
    "#QNO.1 ANS"
   ]
  },
  {
   "cell_type": "markdown",
   "id": "7b2e0eb6",
   "metadata": {},
   "source": [
    "Probablity distribution function is defined as the probablity function of density of continuous random variable in specific range."
   ]
  },
  {
   "cell_type": "markdown",
   "id": "32f30de6",
   "metadata": {},
   "source": [
    "#QNO.2 ANS\n",
    "Ther are two types of Probablity distribution.\n",
    "1.Descrete probablity function\n",
    "2.continuous probablity function"
   ]
  },
  {
   "cell_type": "markdown",
   "id": "75152aa0",
   "metadata": {},
   "source": [
    "#QNO.3 ANS"
   ]
  },
  {
   "cell_type": "code",
   "execution_count": 1,
   "id": "ee68632e",
   "metadata": {},
   "outputs": [
    {
     "name": "stdout",
     "output_type": "stream",
     "text": [
      "Requirement already satisfied: scipy in c:\\users\\kunda\\anaconda3\\lib\\site-packages (1.9.1)\n",
      "Requirement already satisfied: numpy<1.25.0,>=1.18.5 in c:\\users\\kunda\\anaconda3\\lib\\site-packages (from scipy) (1.21.5)\n",
      "Note: you may need to restart the kernel to use updated packages.\n"
     ]
    }
   ],
   "source": [
    "pip install scipy"
   ]
  },
  {
   "cell_type": "code",
   "execution_count": 5,
   "id": "fdb3436d",
   "metadata": {},
   "outputs": [
    {
     "name": "stdout",
     "output_type": "stream",
     "text": [
      "0.24000778968602723\n"
     ]
    }
   ],
   "source": [
    "from scipy.stats import norm\n",
    "import numpy as np\n",
    "\n",
    "data_start = 0\n",
    "data_end = 5\n",
    "data_points = 11\n",
    "data = np.linspace(data_start , data_end, data_points)\n",
    "\n",
    "mean = np.mean(data)\n",
    "std = np.std(data)\n",
    "\n",
    "probablity_pdf = norm.pdf(3, loc = mean, scale = std)\n",
    "print(probablity_pdf)"
   ]
  },
  {
   "cell_type": "markdown",
   "id": "33c08acf",
   "metadata": {},
   "source": [
    "#QNO.4 ANS\n",
    "Two Binomial distribution properties are :\n",
    "1.It is Descrete Random variable\n",
    "2.In Binomial distribution the outcomes are binary.\n",
    "\n",
    "Let we see example like that\n",
    "if we tossing a coin the outcomes are only two first Head or Second Tail\n",
    "\n",
    "other example like is in any examination the probablity of outcomes is only two first student getting Pass or Fail."
   ]
  },
  {
   "cell_type": "markdown",
   "id": "cbcf0e77",
   "metadata": {},
   "source": [
    "#QNO.5 ANS"
   ]
  },
  {
   "cell_type": "code",
   "execution_count": 9,
   "id": "c7f833dc",
   "metadata": {},
   "outputs": [
    {
     "ename": "AttributeError",
     "evalue": "'Rectangle' object has no property 'colors'",
     "output_type": "error",
     "traceback": [
      "\u001b[1;31m---------------------------------------------------------------------------\u001b[0m",
      "\u001b[1;31mAttributeError\u001b[0m                            Traceback (most recent call last)",
      "\u001b[1;32m~\\AppData\\Local\\Temp\\ipykernel_14972\\2690018437.py\u001b[0m in \u001b[0;36m<module>\u001b[1;34m\u001b[0m\n\u001b[0;32m      6\u001b[0m \u001b[1;33m\u001b[0m\u001b[0m\n\u001b[0;32m      7\u001b[0m \u001b[0msample\u001b[0m \u001b[1;33m=\u001b[0m \u001b[0mnp\u001b[0m\u001b[1;33m.\u001b[0m\u001b[0mrandom\u001b[0m\u001b[1;33m.\u001b[0m\u001b[0mbinomial\u001b[0m\u001b[1;33m(\u001b[0m\u001b[0mn\u001b[0m\u001b[1;33m,\u001b[0m \u001b[0mp\u001b[0m\u001b[1;33m,\u001b[0m \u001b[0msize\u001b[0m\u001b[1;33m=\u001b[0m \u001b[1;36m1000\u001b[0m\u001b[1;33m)\u001b[0m\u001b[1;33m\u001b[0m\u001b[1;33m\u001b[0m\u001b[0m\n\u001b[1;32m----> 8\u001b[1;33m \u001b[0mplt\u001b[0m\u001b[1;33m.\u001b[0m\u001b[0mhist\u001b[0m\u001b[1;33m(\u001b[0m\u001b[0msample\u001b[0m \u001b[1;33m,\u001b[0m \u001b[0mbins\u001b[0m \u001b[1;33m=\u001b[0m\u001b[1;36m20\u001b[0m \u001b[1;33m,\u001b[0m\u001b[0mdensity\u001b[0m \u001b[1;33m=\u001b[0m \u001b[1;32mTrue\u001b[0m \u001b[1;33m,\u001b[0m \u001b[0malpha\u001b[0m \u001b[1;33m=\u001b[0m\u001b[1;36m0.5\u001b[0m \u001b[1;33m,\u001b[0m \u001b[0mcolors\u001b[0m \u001b[1;33m=\u001b[0m \u001b[1;34m'green'\u001b[0m\u001b[1;33m)\u001b[0m\u001b[1;33m\u001b[0m\u001b[1;33m\u001b[0m\u001b[0m\n\u001b[0m\u001b[0;32m      9\u001b[0m \u001b[0mplt\u001b[0m\u001b[1;33m.\u001b[0m\u001b[0mxlabel\u001b[0m\u001b[1;33m(\u001b[0m\u001b[1;34m'Number of Successes'\u001b[0m\u001b[1;33m)\u001b[0m\u001b[1;33m\u001b[0m\u001b[1;33m\u001b[0m\u001b[0m\n\u001b[0;32m     10\u001b[0m \u001b[0mplt\u001b[0m\u001b[1;33m.\u001b[0m\u001b[0mylabel\u001b[0m\u001b[1;33m(\u001b[0m\u001b[1;34m'Frequency'\u001b[0m\u001b[1;33m)\u001b[0m\u001b[1;33m\u001b[0m\u001b[1;33m\u001b[0m\u001b[0m\n",
      "\u001b[1;32m~\\anaconda3\\lib\\site-packages\\matplotlib\\pyplot.py\u001b[0m in \u001b[0;36mhist\u001b[1;34m(x, bins, range, density, weights, cumulative, bottom, histtype, align, orientation, rwidth, log, color, label, stacked, data, **kwargs)\u001b[0m\n\u001b[0;32m   2600\u001b[0m         \u001b[0morientation\u001b[0m\u001b[1;33m=\u001b[0m\u001b[1;34m'vertical'\u001b[0m\u001b[1;33m,\u001b[0m \u001b[0mrwidth\u001b[0m\u001b[1;33m=\u001b[0m\u001b[1;32mNone\u001b[0m\u001b[1;33m,\u001b[0m \u001b[0mlog\u001b[0m\u001b[1;33m=\u001b[0m\u001b[1;32mFalse\u001b[0m\u001b[1;33m,\u001b[0m \u001b[0mcolor\u001b[0m\u001b[1;33m=\u001b[0m\u001b[1;32mNone\u001b[0m\u001b[1;33m,\u001b[0m\u001b[1;33m\u001b[0m\u001b[1;33m\u001b[0m\u001b[0m\n\u001b[0;32m   2601\u001b[0m         label=None, stacked=False, *, data=None, **kwargs):\n\u001b[1;32m-> 2602\u001b[1;33m     return gca().hist(\n\u001b[0m\u001b[0;32m   2603\u001b[0m         \u001b[0mx\u001b[0m\u001b[1;33m,\u001b[0m \u001b[0mbins\u001b[0m\u001b[1;33m=\u001b[0m\u001b[0mbins\u001b[0m\u001b[1;33m,\u001b[0m \u001b[0mrange\u001b[0m\u001b[1;33m=\u001b[0m\u001b[0mrange\u001b[0m\u001b[1;33m,\u001b[0m \u001b[0mdensity\u001b[0m\u001b[1;33m=\u001b[0m\u001b[0mdensity\u001b[0m\u001b[1;33m,\u001b[0m \u001b[0mweights\u001b[0m\u001b[1;33m=\u001b[0m\u001b[0mweights\u001b[0m\u001b[1;33m,\u001b[0m\u001b[1;33m\u001b[0m\u001b[1;33m\u001b[0m\u001b[0m\n\u001b[0;32m   2604\u001b[0m         \u001b[0mcumulative\u001b[0m\u001b[1;33m=\u001b[0m\u001b[0mcumulative\u001b[0m\u001b[1;33m,\u001b[0m \u001b[0mbottom\u001b[0m\u001b[1;33m=\u001b[0m\u001b[0mbottom\u001b[0m\u001b[1;33m,\u001b[0m \u001b[0mhisttype\u001b[0m\u001b[1;33m=\u001b[0m\u001b[0mhisttype\u001b[0m\u001b[1;33m,\u001b[0m\u001b[1;33m\u001b[0m\u001b[1;33m\u001b[0m\u001b[0m\n",
      "\u001b[1;32m~\\anaconda3\\lib\\site-packages\\matplotlib\\__init__.py\u001b[0m in \u001b[0;36minner\u001b[1;34m(ax, data, *args, **kwargs)\u001b[0m\n\u001b[0;32m   1410\u001b[0m     \u001b[1;32mdef\u001b[0m \u001b[0minner\u001b[0m\u001b[1;33m(\u001b[0m\u001b[0max\u001b[0m\u001b[1;33m,\u001b[0m \u001b[1;33m*\u001b[0m\u001b[0margs\u001b[0m\u001b[1;33m,\u001b[0m \u001b[0mdata\u001b[0m\u001b[1;33m=\u001b[0m\u001b[1;32mNone\u001b[0m\u001b[1;33m,\u001b[0m \u001b[1;33m**\u001b[0m\u001b[0mkwargs\u001b[0m\u001b[1;33m)\u001b[0m\u001b[1;33m:\u001b[0m\u001b[1;33m\u001b[0m\u001b[1;33m\u001b[0m\u001b[0m\n\u001b[0;32m   1411\u001b[0m         \u001b[1;32mif\u001b[0m \u001b[0mdata\u001b[0m \u001b[1;32mis\u001b[0m \u001b[1;32mNone\u001b[0m\u001b[1;33m:\u001b[0m\u001b[1;33m\u001b[0m\u001b[1;33m\u001b[0m\u001b[0m\n\u001b[1;32m-> 1412\u001b[1;33m             \u001b[1;32mreturn\u001b[0m \u001b[0mfunc\u001b[0m\u001b[1;33m(\u001b[0m\u001b[0max\u001b[0m\u001b[1;33m,\u001b[0m \u001b[1;33m*\u001b[0m\u001b[0mmap\u001b[0m\u001b[1;33m(\u001b[0m\u001b[0msanitize_sequence\u001b[0m\u001b[1;33m,\u001b[0m \u001b[0margs\u001b[0m\u001b[1;33m)\u001b[0m\u001b[1;33m,\u001b[0m \u001b[1;33m**\u001b[0m\u001b[0mkwargs\u001b[0m\u001b[1;33m)\u001b[0m\u001b[1;33m\u001b[0m\u001b[1;33m\u001b[0m\u001b[0m\n\u001b[0m\u001b[0;32m   1413\u001b[0m \u001b[1;33m\u001b[0m\u001b[0m\n\u001b[0;32m   1414\u001b[0m         \u001b[0mbound\u001b[0m \u001b[1;33m=\u001b[0m \u001b[0mnew_sig\u001b[0m\u001b[1;33m.\u001b[0m\u001b[0mbind\u001b[0m\u001b[1;33m(\u001b[0m\u001b[0max\u001b[0m\u001b[1;33m,\u001b[0m \u001b[1;33m*\u001b[0m\u001b[0margs\u001b[0m\u001b[1;33m,\u001b[0m \u001b[1;33m**\u001b[0m\u001b[0mkwargs\u001b[0m\u001b[1;33m)\u001b[0m\u001b[1;33m\u001b[0m\u001b[1;33m\u001b[0m\u001b[0m\n",
      "\u001b[1;32m~\\anaconda3\\lib\\site-packages\\matplotlib\\axes\\_axes.py\u001b[0m in \u001b[0;36mhist\u001b[1;34m(self, x, bins, range, density, weights, cumulative, bottom, histtype, align, orientation, rwidth, log, color, label, stacked, **kwargs)\u001b[0m\n\u001b[0;32m   6785\u001b[0m             \u001b[1;32mif\u001b[0m \u001b[0mpatch\u001b[0m\u001b[1;33m:\u001b[0m\u001b[1;33m\u001b[0m\u001b[1;33m\u001b[0m\u001b[0m\n\u001b[0;32m   6786\u001b[0m                 \u001b[0mp\u001b[0m \u001b[1;33m=\u001b[0m \u001b[0mpatch\u001b[0m\u001b[1;33m[\u001b[0m\u001b[1;36m0\u001b[0m\u001b[1;33m]\u001b[0m\u001b[1;33m\u001b[0m\u001b[1;33m\u001b[0m\u001b[0m\n\u001b[1;32m-> 6787\u001b[1;33m                 \u001b[0mp\u001b[0m\u001b[1;33m.\u001b[0m\u001b[0mupdate\u001b[0m\u001b[1;33m(\u001b[0m\u001b[0mkwargs\u001b[0m\u001b[1;33m)\u001b[0m\u001b[1;33m\u001b[0m\u001b[1;33m\u001b[0m\u001b[0m\n\u001b[0m\u001b[0;32m   6788\u001b[0m                 \u001b[1;32mif\u001b[0m \u001b[0mlbl\u001b[0m \u001b[1;32mis\u001b[0m \u001b[1;32mnot\u001b[0m \u001b[1;32mNone\u001b[0m\u001b[1;33m:\u001b[0m\u001b[1;33m\u001b[0m\u001b[1;33m\u001b[0m\u001b[0m\n\u001b[0;32m   6789\u001b[0m                     \u001b[0mp\u001b[0m\u001b[1;33m.\u001b[0m\u001b[0mset_label\u001b[0m\u001b[1;33m(\u001b[0m\u001b[0mlbl\u001b[0m\u001b[1;33m)\u001b[0m\u001b[1;33m\u001b[0m\u001b[1;33m\u001b[0m\u001b[0m\n",
      "\u001b[1;32m~\\anaconda3\\lib\\site-packages\\matplotlib\\artist.py\u001b[0m in \u001b[0;36mupdate\u001b[1;34m(self, props)\u001b[0m\n\u001b[0;32m   1062\u001b[0m                     \u001b[0mfunc\u001b[0m \u001b[1;33m=\u001b[0m \u001b[0mgetattr\u001b[0m\u001b[1;33m(\u001b[0m\u001b[0mself\u001b[0m\u001b[1;33m,\u001b[0m \u001b[1;34mf\"set_{k}\"\u001b[0m\u001b[1;33m,\u001b[0m \u001b[1;32mNone\u001b[0m\u001b[1;33m)\u001b[0m\u001b[1;33m\u001b[0m\u001b[1;33m\u001b[0m\u001b[0m\n\u001b[0;32m   1063\u001b[0m                     \u001b[1;32mif\u001b[0m \u001b[1;32mnot\u001b[0m \u001b[0mcallable\u001b[0m\u001b[1;33m(\u001b[0m\u001b[0mfunc\u001b[0m\u001b[1;33m)\u001b[0m\u001b[1;33m:\u001b[0m\u001b[1;33m\u001b[0m\u001b[1;33m\u001b[0m\u001b[0m\n\u001b[1;32m-> 1064\u001b[1;33m                         raise AttributeError(f\"{type(self).__name__!r} object \"\n\u001b[0m\u001b[0;32m   1065\u001b[0m                                              f\"has no property {k!r}\")\n\u001b[0;32m   1066\u001b[0m                     \u001b[0mret\u001b[0m\u001b[1;33m.\u001b[0m\u001b[0mappend\u001b[0m\u001b[1;33m(\u001b[0m\u001b[0mfunc\u001b[0m\u001b[1;33m(\u001b[0m\u001b[0mv\u001b[0m\u001b[1;33m)\u001b[0m\u001b[1;33m)\u001b[0m\u001b[1;33m\u001b[0m\u001b[1;33m\u001b[0m\u001b[0m\n",
      "\u001b[1;31mAttributeError\u001b[0m: 'Rectangle' object has no property 'colors'"
     ]
    },
    {
     "data": {
      "image/png": "[encoded data removed]",
      "text/plain": [
       "<Figure size 640x480 with 1 Axes>"
      ]
     },
     "metadata": {},
     "output_type": "display_data"
    }
   ],
   "source": [
    "import numpy as np\n",
    "import matplotlib.pyplot as plt\n",
    "\n",
    "n = 1000\n",
    "p= 0.4\n",
    "\n",
    "sample = np.random.binomial(n, p, size= 1000)\n",
    "plt.hist(sample , bins =20 ,density = True , alpha =0.5 , colors = 'green')\n",
    "plt.xlabel('Number of Successes')\n",
    "plt.ylabel('Frequency')\n",
    "plt.title('Histogram of Random Sample from Binomial Distribution')\n",
    "plt.show()"
   ]
  },
  {
   "cell_type": "markdown",
   "id": "a8048c6c",
   "metadata": {},
   "source": [
    "#QNO.6 ANS"
   ]
  },
  {
   "cell_type": "code",
   "execution_count": 14,
   "id": "3c29ac4d",
   "metadata": {},
   "outputs": [],
   "source": [
    "import math\n",
    "\n",
    "def poisson_cdf(mu, k):\n",
    "   \n",
    "    cdf = 0.0\n",
    "    for i in range(k + 1):\n",
    "        cdf += math.exp(-mu) * (mu ** i) / math.factorial(i)\n",
    "    return cdf\n"
   ]
  },
  {
   "cell_type": "code",
   "execution_count": 15,
   "id": "d676b070",
   "metadata": {},
   "outputs": [
    {
     "data": {
      "text/plain": [
       "0.8152632445237721"
      ]
     },
     "execution_count": 15,
     "metadata": {},
     "output_type": "execute_result"
    }
   ],
   "source": [
    "poisson_cdf(3,4)"
   ]
  },
  {
   "cell_type": "markdown",
   "id": "dd72ea84",
   "metadata": {},
   "source": [
    "#QNO.7 ANS"
   ]
  },
  {
   "cell_type": "markdown",
   "id": "71542a2b",
   "metadata": {},
   "source": [
    "The Binomial and Poisson distributions are both discrete probability distributions, but they are used in different situations and have different properties.\n",
    "\n",
    "The Binomial distribution models the probability of getting a certain number of successes in a fixed number of independent Bernoulli trials. Each trial has only two possible outcomes, typically referred to as success or failure, and the probability of success is constant across all trials. The Binomial distribution has two parameters: the number of trials n and the probability of success p. The probability mass function of a Binomial distribution is given by: \n",
    "P(X = k) = (n choose k) * p^k * (1 - p)^(n - k)\n",
    "\n",
    "The Poisson distribution models the probability of a certain number of events occurring in a fixed interval of time or space, assuming that the events occur randomly and independently at a constant rate. The Poisson distribution has one parameter: the mean rate of occurrence λ. The probability mass function of a Poisson distribution is given by:\n",
    "\n",
    "P(X = k) = (e^-λ * λ^k) / k!\n"
   ]
  },
  {
   "cell_type": "markdown",
   "id": "40fbd42c",
   "metadata": {},
   "source": [
    "#QNO.8 ANS"
   ]
  },
  {
   "cell_type": "code",
   "execution_count": 16,
   "id": "c2d53bee",
   "metadata": {},
   "outputs": [
    {
     "name": "stdout",
     "output_type": "stream",
     "text": [
      "Sample mean: 4.943\n",
      "Sample variance 5.451202202202201\n"
     ]
    }
   ],
   "source": [
    "import numpy as np\n",
    "\n",
    "np.random.seed(1234)\n",
    "sample = np.random.poisson(5, size=1000)\n",
    "\n",
    "mean = np.mean(sample)\n",
    "print('Sample mean:',mean)\n",
    "\n",
    "variance = np.var(sample, ddof=1)\n",
    "print('Sample variance', variance)"
   ]
  },
  {
   "cell_type": "markdown",
   "id": "fa92f531",
   "metadata": {},
   "source": [
    "#QNO.9 ANS\n",
    "In both the Binomial and Poisson distributions, the mean and variance are related, but the nature of the relationship is different for each distribution.\n",
    "\n",
    "In a Binomial distribution with parameters n and p, the mean is equal to n*p and the variance is equal to n*p*(1-p). This means that the variance depends on both the number of trials n and the probability of success p. When p is close to 0 or 1, the variance approaches 0, indicating that the outcomes are highly predictable. When p is close to 0.5, the variance is highest, indicating that the outcomes are more spread out.\n",
    "\n",
    "In a Poisson distribution with parameter λ, the mean is equal to λ and the variance is also equal to λ. This means that the variance is solely determined by the mean, and not by any other parameters. When the mean is small, the variance is also small, indicating that the outcomes are highly predictable. When the mean is large, the variance is also large, indicating that the outcomes are more spread out.\n",
    "\n"
   ]
  },
  {
   "cell_type": "markdown",
   "id": "83783cdb",
   "metadata": {},
   "source": [
    "#QNO.10\n",
    "In a normal distribution, the least frequent data appears in the tails of the distribution, which are the regions furthest away from the mean. Specifically, the probability density function (PDF) of a normal distribution is symmetric around the mean, with the highest point of the PDF at the mean. As we move away from the mean in either direction, the PDF decreases gradually, with the rate of decrease depending on the standard deviation of the distribution.\n",
    "\n",
    "The tails of the distribution represent the extreme values that are less likely to occur. The area under the PDF curve beyond a certain distance from the mean is given by the cumulative distribution function (CDF) of the normal distribution. The CDF of a normal distribution indicates the probability that a random variable drawn from the distribution is less than or equal to a certain value. As we move further away from the mean, the probability of observing a value in that region becomes smaller.\n",
    "\n",
    "Therefore, the least frequent data in a normal distribution appears in the tails, which are the regions furthest away from the mean"
   ]
  }
 ],
 "metadata": {
  "kernelspec": {
   "display_name": "Python 3 (ipykernel)",
   "language": "python",
   "name": "python3"
  },
  "language_info": {
   "codemirror_mode": {
    "name": "ipython",
    "version": 3
   },
   "file_extension": ".py",
   "mimetype": "text/x-python",
   "name": "python",
   "nbconvert_exporter": "python",
   "pygments_lexer": "ipython3",
   "version": "3.9.13"
  }
 },
 "nbformat": 4,
 "nbformat_minor": 5
}
